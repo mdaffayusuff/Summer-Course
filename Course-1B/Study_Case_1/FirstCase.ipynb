{
 "cells": [
  {
   "cell_type": "code",
   "execution_count": 2,
   "metadata": {},
   "outputs": [
    {
     "name": "stdout",
     "output_type": "stream",
     "text": [
      "Enter the gallons used (-1 to end): 100\n",
      "Enter the miles driven : 100\n",
      "the miles/gallon for this tank was: 1.000000\n",
      "Enter the gallons used (-1 to end): 200\n",
      "Enter the miles driven : 50\n",
      "the miles/gallon for this tank was: 0.250000\n",
      "Enter the gallons used (-1 to end): -1\n",
      "The overall average miles/gallon was: 0.500000\n"
     ]
    }
   ],
   "source": [
    "def main():\n",
    "    total_miles = 0\n",
    "    total_gallons = 0\n",
    "    count = 0\n",
    "\n",
    "    while True:\n",
    "        try:\n",
    "            # input gallons\n",
    "            gallons = float(input(\"Enter the gallons used (-1 to end): \"))\n",
    "            if gallons == -1:\n",
    "                break\n",
    "\n",
    "            # input miles\n",
    "            miles = float(input(\"Enter the miles driven : \"))\n",
    "\n",
    "            # average \n",
    "            avg = miles / gallons\n",
    "            print(f\"the miles/gallon for this tank was: {avg:.6f}\")\n",
    "            \n",
    "            total_miles += miles\n",
    "            total_gallons += gallons\n",
    "            count += 1\n",
    "\n",
    "        except ValueError:\n",
    "            print(\"try again\")\n",
    "\n",
    "    # count\n",
    "    if count > 0:\n",
    "        overall_avg = total_miles / total_gallons\n",
    "        print(f\"The overall average miles/gallon was: {overall_avg:.6f}\")\n",
    "    else:\n",
    "        print(\"no data.\")\n",
    "\n",
    "if __name__ == \"__main__\":\n",
    "    main()"
   ]
  },
  {
   "cell_type": "code",
   "execution_count": null,
   "metadata": {},
   "outputs": [],
   "source": []
  }
 ],
 "metadata": {
  "kernelspec": {
   "display_name": "Python 3 (ipykernel)",
   "language": "python",
   "name": "python3"
  },
  "language_info": {
   "codemirror_mode": {
    "name": "ipython",
    "version": 3
   },
   "file_extension": ".py",
   "mimetype": "text/x-python",
   "name": "python",
   "nbconvert_exporter": "python",
   "pygments_lexer": "ipython3",
   "version": "3.9.12"
  }
 },
 "nbformat": 4,
 "nbformat_minor": 2
}
