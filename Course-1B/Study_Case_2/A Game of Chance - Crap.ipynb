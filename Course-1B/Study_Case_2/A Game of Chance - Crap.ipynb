{
 "cells": [
  {
   "cell_type": "code",
   "execution_count": 1,
   "metadata": {},
   "outputs": [],
   "source": [
    "import random\n",
    "\n",
    "point = 0\n",
    "\n",
    "#creating 2 dice that eill roll the random value\n",
    "dice_1 = 0\n",
    "dice_2 = 0\n",
    "\n",
    "#here is the rolling function for the dice\n",
    "def roll_the_dice():\n",
    "    return random.randint(1,6)\n"
   ]
  },
  {
   "cell_type": "markdown",
   "metadata": {},
   "source": [
    "## Here is where we play the game"
   ]
  },
  {
   "cell_type": "code",
   "execution_count": 32,
   "metadata": {},
   "outputs": [
    {
     "name": "stdout",
     "output_type": "stream",
     "text": [
      "Your point is 9\n",
      "Dice 1 : 4\n",
      "Dice 2 : 5\n",
      "Your roll is 9\n",
      "YOU WIN, HOUSE LOSE!!!!!!!!!\n"
     ]
    }
   ],
   "source": [
    "#Roll both dice\n",
    "dice_1 = roll_the_dice()\n",
    "dice_2 = roll_the_dice()\n",
    "\n",
    "#Calculate the sum of both dicce\n",
    "sum_dice = dice_1 + dice_2\n",
    "\n",
    "#show current point\n",
    "if not point == 0:\n",
    "    print(\"Your point is \" + str(point))\n",
    "\n",
    "#Give the value of the dice rolled\n",
    "print(\"Dice 1 : \" + str(dice_1))\n",
    "print(\"Dice 2 : \" + str(dice_2))\n",
    "#Give the status of the sum value form both dice\n",
    "print(\"Your roll is \" + str(sum_dice))\n",
    "\n",
    "\n",
    "#Rulse of the game\n",
    "if point == 0 : \n",
    "    if sum_dice == 2 or sum_dice == 3 or sum_dice==12:\n",
    "        print(\"CRAPS!!! HOUSE WIN, YOU LOSE!!!!!!!!!\")\n",
    "    elif sum_dice == 11 or sum_dice == 7:\n",
    "        print(\"YOU WIN, HOUSE LOSE!!!!!!!!!\")\n",
    "    else:\n",
    "        point = sum_dice\n",
    "else:\n",
    "    if sum_dice == point:\n",
    "        print(\"YOU WIN, HOUSE LOSE!!!!!!!!!\")\n",
    "        point = 0\n",
    "    elif sum_dice == 7:\n",
    "        print(\"CRAPS!!! HOUSE WIN, YOU LOSE!!!!!!!!!\")\n",
    "        point = 0  "
   ]
  },
  {
   "cell_type": "code",
   "execution_count": null,
   "metadata": {},
   "outputs": [],
   "source": []
  }
 ],
 "metadata": {
  "kernelspec": {
   "display_name": "Python 3 (ipykernel)",
   "language": "python",
   "name": "python3"
  },
  "language_info": {
   "codemirror_mode": {
    "name": "ipython",
    "version": 3
   },
   "file_extension": ".py",
   "mimetype": "text/x-python",
   "name": "python",
   "nbconvert_exporter": "python",
   "pygments_lexer": "ipython3",
   "version": "3.9.12"
  },
  "polyglot_notebook": {
   "kernelInfo": {
    "defaultKernelName": "csharp",
    "items": [
     {
      "aliases": [],
      "name": "csharp"
     }
    ]
   }
  }
 },
 "nbformat": 4,
 "nbformat_minor": 2
}
