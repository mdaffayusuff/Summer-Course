{
 "cells": [
  {
   "cell_type": "markdown",
   "id": "d6de25ee",
   "metadata": {},
   "source": [
    "## Case 3 : COVID 19 Infection Statistic"
   ]
  },
  {
   "cell_type": "markdown",
   "id": "ed169e79",
   "metadata": {},
   "source": [
    "• (COVID-19 Infection Statistics) During the first 20 days of the COVID-19 pandemic, the number of newly infected patients per day in a country were recorded.\n",
    "<br>\n",
    "• Place the following numbers in a list: 174, 335, 278, 214, 422, 513, 737, 672, 489, 412, 1301, 1105, 1123, 1376, 1502, 894, 665, 1704, 1656, 1342 Use the built-in functions in the statistics module to display the following statistics concerning the infection rate: minimum, maximum, range, mean, median, variance, and standard deviation."
   ]
  },
  {
   "cell_type": "code",
   "execution_count": 8,
   "id": "8089a083",
   "metadata": {},
   "outputs": [
    {
     "name": "stdout",
     "output_type": "stream",
     "text": [
      "Minimum: 174\n",
      "Maximum: 1704\n",
      "Range: 1530\n",
      "Mean: 845.7\n",
      "Median: 704.5\n",
      "Variance: 253620.75\n",
      "Standard Deviation: 503.61\n"
     ]
    }
   ],
   "source": [
    "# Import required module/library\n",
    "import statistics\n",
    "\n",
    "# Add data in a list format\n",
    "infection_data = [174, 335, 278, 214, 422, 513, 737, 672, 489, 412, \n",
    "                  1301, 1105, 1123, 1376, 1502, 894, 665, 1704, 1656, 1342]\n",
    "    \n",
    "\n",
    "# Find the minimum and maximum of the data using built-in function from python\n",
    "minimum = min(infection_data)\n",
    "maximum = max(infection_data)\n",
    "\n",
    "# Calculate the range by subtracting the maximum with the minimum\n",
    "data_range = maximum - minimum\n",
    "    \n",
    "# Using function from statistics module to find mean, median, variance, and standard deviation\n",
    "mean = statistics.mean(infection_data)\n",
    "median = statistics.median(infection_data)\n",
    "variance = statistics.variance(infection_data)\n",
    "sandard_deviation = statistics.stdev(infection_data)\n",
    "\n",
    "# Print the result\n",
    "# note: .2f is used to limit the numbers to 2 numbers behind the comma.\n",
    "print(f\"Minimum: {minimum}\")\n",
    "print(f\"Maximum: {maximum}\")\n",
    "print(f\"Range: {data_range}\")\n",
    "print(f\"Mean: {mean}\")\n",
    "print(f\"Median: {median}\")\n",
    "print(f\"Variance: {variance:.2f}\")\n",
    "print(f\"Standard Deviation: {sandard_deviation:.2f}\")"
   ]
  },
  {
   "cell_type": "code",
   "execution_count": null,
   "id": "22738233",
   "metadata": {},
   "outputs": [],
   "source": []
  }
 ],
 "metadata": {
  "kernelspec": {
   "display_name": "Python 3 (ipykernel)",
   "language": "python",
   "name": "python3"
  },
  "language_info": {
   "codemirror_mode": {
    "name": "ipython",
    "version": 3
   },
   "file_extension": ".py",
   "mimetype": "text/x-python",
   "name": "python",
   "nbconvert_exporter": "python",
   "pygments_lexer": "ipython3",
   "version": "3.9.12"
  }
 },
 "nbformat": 4,
 "nbformat_minor": 5
}
